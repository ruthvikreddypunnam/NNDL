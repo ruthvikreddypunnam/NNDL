{
 "cells": [
  {
   "cell_type": "markdown",
   "metadata": {},
   "source": [
    "## RMSProp algorithm using SGD"
   ]
  },
  {
   "cell_type": "code",
   "execution_count": 1,
   "metadata": {},
   "outputs": [],
   "source": [
    "import pandas as pd\n",
    "import math"
   ]
  },
  {
   "cell_type": "code",
   "execution_count": 2,
   "metadata": {},
   "outputs": [],
   "source": [
    "l1=[0.2,0.4,0.6,0.8]\n",
    "l2=[3.4,3.8,4.2,4.8]\n",
    "d={'x':l1,'y':l2}\n",
    "data=pd.DataFrame(d)"
   ]
  },
  {
   "cell_type": "code",
   "execution_count": 3,
   "metadata": {},
   "outputs": [
    {
     "data": {
      "text/html": [
       "<div>\n",
       "<style scoped>\n",
       "    .dataframe tbody tr th:only-of-type {\n",
       "        vertical-align: middle;\n",
       "    }\n",
       "\n",
       "    .dataframe tbody tr th {\n",
       "        vertical-align: top;\n",
       "    }\n",
       "\n",
       "    .dataframe thead th {\n",
       "        text-align: right;\n",
       "    }\n",
       "</style>\n",
       "<table border=\"1\" class=\"dataframe\">\n",
       "  <thead>\n",
       "    <tr style=\"text-align: right;\">\n",
       "      <th></th>\n",
       "      <th>x</th>\n",
       "      <th>y</th>\n",
       "    </tr>\n",
       "  </thead>\n",
       "  <tbody>\n",
       "    <tr>\n",
       "      <th>0</th>\n",
       "      <td>0.2</td>\n",
       "      <td>3.4</td>\n",
       "    </tr>\n",
       "    <tr>\n",
       "      <th>1</th>\n",
       "      <td>0.4</td>\n",
       "      <td>3.8</td>\n",
       "    </tr>\n",
       "    <tr>\n",
       "      <th>2</th>\n",
       "      <td>0.6</td>\n",
       "      <td>4.2</td>\n",
       "    </tr>\n",
       "    <tr>\n",
       "      <th>3</th>\n",
       "      <td>0.8</td>\n",
       "      <td>4.8</td>\n",
       "    </tr>\n",
       "  </tbody>\n",
       "</table>\n",
       "</div>"
      ],
      "text/plain": [
       "     x    y\n",
       "0  0.2  3.4\n",
       "1  0.4  3.8\n",
       "2  0.6  4.2\n",
       "3  0.8  4.8"
      ]
     },
     "execution_count": 3,
     "metadata": {},
     "output_type": "execute_result"
    }
   ],
   "source": [
    "data"
   ]
  },
  {
   "cell_type": "code",
   "execution_count": 4,
   "metadata": {},
   "outputs": [],
   "source": [
    "m=1\n",
    "c=-1\n",
    "l=0.1\n",
    "r=0.9\n",
    "E=10**(-8)\n",
    "E2gmt=0\n",
    "E2gct=0\n",
    "e_list=[]"
   ]
  },
  {
   "cell_type": "code",
   "execution_count": 5,
   "metadata": {},
   "outputs": [],
   "source": [
    "def y_value(m,c,x):\n",
    "    return m*x+c"
   ]
  },
  {
   "cell_type": "code",
   "execution_count": 6,
   "metadata": {},
   "outputs": [],
   "source": [
    "def error(y_actual,y_predicted):\n",
    "    return 0.5*(y_actual-y_predicted)**2"
   ]
  },
  {
   "cell_type": "code",
   "execution_count": 8,
   "metadata": {},
   "outputs": [],
   "source": [
    "def gradient(m,c,y_actual,x,E2gmt,E2gct):\n",
    "    g_m=(y_actual-m*x-c)*(-1)*x\n",
    "    g_c=(y_actual-m*x-c)*(-1)\n",
    "    E2gmt=r*E2gmt+(1-r)*(g_m**2)\n",
    "    E2gct=r*E2gct+(1-r)*(g_c**2)\n",
    "    \n",
    "    m=m-((l*g_m)/math.sqrt(E2gmt+E))\n",
    "    c=c-((l*g_c)/math.sqrt(E2gct+E))\n",
    "    return m,c,E2gmt,E2gct"
   ]
  },
  {
   "cell_type": "code",
   "execution_count": 9,
   "metadata": {},
   "outputs": [],
   "source": [
    "for i in range(30):\n",
    "    for sample in range(len(data)):\n",
    "        y_predicted=y_value(m,c,data['x'][sample])\n",
    "        y_actual=data['y'][sample]\n",
    "        e=error(y_actual,y_predicted)\n",
    "        m,c,E2gmt,E2gct=gradient(m,c,y_actual,data['x'][sample],E2gmt,E2gct)\n",
    "        e_list.append(e)"
   ]
  },
  {
   "cell_type": "code",
   "execution_count": 10,
   "metadata": {},
   "outputs": [
    {
     "data": {
      "text/plain": [
       "[8.82,\n",
       " 7.830037000353915,\n",
       " 6.851378459387227,\n",
       " 6.4794068222403665,\n",
       " 4.817611690814287,\n",
       " 4.3057079673468195,\n",
       " 3.7172633235234835,\n",
       " 3.5452621167758696,\n",
       " 3.235434827541091,\n",
       " 2.692806726227434,\n",
       " 2.1420091702568453,\n",
       " 1.9570952688560679,\n",
       " 2.230806482598853,\n",
       " 1.688542640765574,\n",
       " 1.1906613101405903,\n",
       " 1.0093765640197003,\n",
       " 1.540373224236432,\n",
       " 1.0294216468584618,\n",
       " 0.606948713156688,\n",
       " 0.4542667957922508,\n",
       " 1.0586859585169544,\n",
       " 0.599888668622352,\n",
       " 0.26669001188541414,\n",
       " 0.15855043015263287,\n",
       " 0.7274091405938433,\n",
       " 0.3310674828980261,\n",
       " 0.09005593309632162,\n",
       " 0.030754708735670447,\n",
       " 0.5070008701660572,\n",
       " 0.1734807718435864,\n",
       " 0.016864918442277065,\n",
       " 3.592757059186809e-05,\n",
       " 0.3670954614934626,\n",
       " 0.08848259176562413,\n",
       " 2.8206265869008545e-05,\n",
       " 0.012237383765041118,\n",
       " 0.28316732004749184,\n",
       " 0.046480340726123566,\n",
       " 0.005908853695057138,\n",
       " 0.032123099400537335,\n",
       " 0.23554062349402732,\n",
       " 0.027094059070842003,\n",
       " 0.015437016222889687,\n",
       " 0.0439600654171044,\n",
       " 0.20905653774136967,\n",
       " 0.018290634463557328,\n",
       " 0.02173127270414995,\n",
       " 0.04604435312981761,\n",
       " 0.19287197138641593,\n",
       " 0.013947487959760814,\n",
       " 0.024543893438640402,\n",
       " 0.042155806200524136,\n",
       " 0.18021384775070787,\n",
       " 0.011284628783141116,\n",
       " 0.025360472664202865,\n",
       " 0.035862249374792106,\n",
       " 0.16770599763000701,\n",
       " 0.009186292796886108,\n",
       " 0.025282291663796086,\n",
       " 0.02908139202453539,\n",
       " 0.15421871423478253,\n",
       " 0.007294897218312429,\n",
       " 0.02480989020609474,\n",
       " 0.022607345083956468,\n",
       " 0.13973826641954545,\n",
       " 0.005545212409568314,\n",
       " 0.024130643956383833,\n",
       " 0.01675194368035452,\n",
       " 0.12464582684902618,\n",
       " 0.003958641301421082,\n",
       " 0.023322897517558082,\n",
       " 0.011659496815628018,\n",
       " 0.10938703080000185,\n",
       " 0.0025751283524980692,\n",
       " 0.02243081692535801,\n",
       " 0.007416639257967481,\n",
       " 0.09435687544006365,\n",
       " 0.0014386351074074724,\n",
       " 0.02148092626743657,\n",
       " 0.004087633970984439,\n",
       " 0.07987664001077921,\n",
       " 0.0005974096296585433,\n",
       " 0.020482604768291685,\n",
       " 0.00172516331792235,\n",
       " 0.06620907652263287,\n",
       " 0.00010573921687577451,\n",
       " 0.019425747492987696,\n",
       " 0.0003660710113649296,\n",
       " 0.05359124735587044,\n",
       " 1.979182935193474e-05,\n",
       " 0.018280735007547847,\n",
       " 8.206069237790952e-06,\n",
       " 0.042271446926446334,\n",
       " 0.000377612998773953,\n",
       " 0.017009207347734635,\n",
       " 0.0005645165921989852,\n",
       " 0.03252315815908827,\n",
       " 0.0011563027365721534,\n",
       " 0.015595849352499268,\n",
       " 0.0018123562813847957,\n",
       " 0.024589485748273,\n",
       " 0.0022294542996829578,\n",
       " 0.01408976141163055,\n",
       " 0.0034000743260738046,\n",
       " 0.01855157782192736,\n",
       " 0.003389183027475083,\n",
       " 0.012606313290851831,\n",
       " 0.004963413247941766,\n",
       " 0.014237333031904442,\n",
       " 0.004447577205590713,\n",
       " 0.01126844483917221,\n",
       " 0.0062710467706855915,\n",
       " 0.011291016157544334,\n",
       " 0.0053150517703499005,\n",
       " 0.010149241686075238,\n",
       " 0.007258026478063842,\n",
       " 0.009330286448621406,\n",
       " 0.00598816271489279,\n",
       " 0.009264624446391754,\n",
       " 0.007957973611228793]"
      ]
     },
     "execution_count": 10,
     "metadata": {},
     "output_type": "execute_result"
    }
   ],
   "source": [
    "e_list"
   ]
  },
  {
   "cell_type": "code",
   "execution_count": 11,
   "metadata": {},
   "outputs": [
    {
     "data": {
      "text/plain": [
       "Text(0.5, 0, 'steps')"
      ]
     },
     "execution_count": 11,
     "metadata": {},
     "output_type": "execute_result"
    },
    {
     "data": {
      "image/png": "[encoded data removed]",
      "text/plain": [
       "<Figure size 432x288 with 1 Axes>"
      ]
     },
     "metadata": {
      "needs_background": "light"
     },
     "output_type": "display_data"
    }
   ],
   "source": [
    "import matplotlib.pyplot as plt\n",
    "plt.plot(e_list)\n",
    "plt.plot(\"error\")\n",
    "plt.xlabel(\"steps\")"
   ]
  },
  {
   "cell_type": "code",
   "execution_count": 12,
   "metadata": {},
   "outputs": [
    {
     "data": {
      "text/plain": [
       "[<matplotlib.lines.Line2D at 0xe9142b0>]"
      ]
     },
     "execution_count": 12,
     "metadata": {},
     "output_type": "execute_result"
    },
    {
     "data": {
      "image/png": "[encoded data removed]",
      "text/plain": [
       "<Figure size 432x288 with 1 Axes>"
      ]
     },
     "metadata": {
      "needs_background": "light"
     },
     "output_type": "display_data"
    }
   ],
   "source": [
    "plt.scatter(data['x'],data['y'])\n",
    "plt.plot(data['x'],m*data['x']+c)"
   ]
  },
  {
   "cell_type": "code",
   "execution_count": null,
   "metadata": {},
   "outputs": [],
   "source": []
  }
 ],
 "metadata": {
  "kernelspec": {
   "display_name": "Python 3",
   "language": "python",
   "name": "python3"
  },
  "language_info": {
   "codemirror_mode": {
    "name": "ipython",
    "version": 3
   },
   "file_extension": ".py",
   "mimetype": "text/x-python",
   "name": "python",
   "nbconvert_exporter": "python",
   "pygments_lexer": "ipython3",
   "version": "3.8.2"
  }
 },
 "nbformat": 4,
 "nbformat_minor": 4
}
