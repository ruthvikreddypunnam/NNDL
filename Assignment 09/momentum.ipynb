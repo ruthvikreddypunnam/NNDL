{
 "cells": [
  {
   "cell_type": "markdown",
   "metadata": {},
   "source": [
    "## Momentum algorithm using SGD"
   ]
  },
  {
   "cell_type": "code",
   "execution_count": 1,
   "metadata": {},
   "outputs": [],
   "source": [
    "import pandas as pd"
   ]
  },
  {
   "cell_type": "code",
   "execution_count": 2,
   "metadata": {},
   "outputs": [],
   "source": [
    "l1=[0.2,0.4,0.6,0.8]\n",
    "l2=[3.4,3.8,4.2,4.8]\n",
    "d={'x':l1,'y':l2}\n",
    "data=pd.DataFrame(d)"
   ]
  },
  {
   "cell_type": "code",
   "execution_count": 3,
   "metadata": {},
   "outputs": [
    {
     "data": {
      "text/html": [
       "<div>\n",
       "<style scoped>\n",
       "    .dataframe tbody tr th:only-of-type {\n",
       "        vertical-align: middle;\n",
       "    }\n",
       "\n",
       "    .dataframe tbody tr th {\n",
       "        vertical-align: top;\n",
       "    }\n",
       "\n",
       "    .dataframe thead th {\n",
       "        text-align: right;\n",
       "    }\n",
       "</style>\n",
       "<table border=\"1\" class=\"dataframe\">\n",
       "  <thead>\n",
       "    <tr style=\"text-align: right;\">\n",
       "      <th></th>\n",
       "      <th>x</th>\n",
       "      <th>y</th>\n",
       "    </tr>\n",
       "  </thead>\n",
       "  <tbody>\n",
       "    <tr>\n",
       "      <th>0</th>\n",
       "      <td>0.2</td>\n",
       "      <td>3.4</td>\n",
       "    </tr>\n",
       "    <tr>\n",
       "      <th>1</th>\n",
       "      <td>0.4</td>\n",
       "      <td>3.8</td>\n",
       "    </tr>\n",
       "    <tr>\n",
       "      <th>2</th>\n",
       "      <td>0.6</td>\n",
       "      <td>4.2</td>\n",
       "    </tr>\n",
       "    <tr>\n",
       "      <th>3</th>\n",
       "      <td>0.8</td>\n",
       "      <td>4.8</td>\n",
       "    </tr>\n",
       "  </tbody>\n",
       "</table>\n",
       "</div>"
      ],
      "text/plain": [
       "     x    y\n",
       "0  0.2  3.4\n",
       "1  0.4  3.8\n",
       "2  0.6  4.2\n",
       "3  0.8  4.8"
      ]
     },
     "execution_count": 3,
     "metadata": {},
     "output_type": "execute_result"
    }
   ],
   "source": [
    "data"
   ]
  },
  {
   "cell_type": "code",
   "execution_count": 4,
   "metadata": {},
   "outputs": [],
   "source": [
    "m=1\n",
    "c=-1\n",
    "l=0.1\n",
    "r=0.9\n",
    "vm=0\n",
    "vc=0\n",
    "e_list=[]"
   ]
  },
  {
   "cell_type": "code",
   "execution_count": 5,
   "metadata": {},
   "outputs": [],
   "source": [
    "def y_value(m,c,x):\n",
    "    return m*x+c"
   ]
  },
  {
   "cell_type": "code",
   "execution_count": 6,
   "metadata": {},
   "outputs": [],
   "source": [
    "def error(y_actual,y_predicted):\n",
    "    return 0.5*(y_actual-y_predicted)**2"
   ]
  },
  {
   "cell_type": "code",
   "execution_count": 7,
   "metadata": {},
   "outputs": [],
   "source": [
    "def gradient(m,c,y_actual,y_predicted,x,vm,vc):\n",
    "    g_m=(y_actual-y_predicted)*(-1)*x\n",
    "    g_c=(y_actual-y_predicted)*(-1)\n",
    "    vm=r*vm-l*g_m\n",
    "    vc=r*vc-l*g_c\n",
    "    m=m+vm\n",
    "    c=c+vc\n",
    "    return m,c,vm,vc"
   ]
  },
  {
   "cell_type": "code",
   "execution_count": 8,
   "metadata": {},
   "outputs": [],
   "source": [
    "for i in range(20):\n",
    "    for sample in range(len(data)):\n",
    "        y_predicted=y_value(m,c,data['x'][sample])\n",
    "        y_actual=data['y'][sample]\n",
    "        e=error(y_actual,y_predicted)\n",
    "        m,c,vm,vc=gradient(m,c,y_actual,y_predicted,data['x'][sample],vm,vc)\n",
    "        e_list.append(e)"
   ]
  },
  {
   "cell_type": "code",
   "execution_count": 9,
   "metadata": {},
   "outputs": [
    {
     "data": {
      "text/plain": [
       "[8.82,\n",
       " 7.7870364799999985,\n",
       " 5.17417905525248,\n",
       " 2.4505253820228554,\n",
       " 0.18087378528073886,\n",
       " 0.26867354147333505,\n",
       " 2.075948304843951,\n",
       " 4.1601777500335695,\n",
       " 3.083770302925862,\n",
       " 3.735694544910972,\n",
       " 3.4547502073318848,\n",
       " 1.8313744282068356,\n",
       " 0.33034985819177615,\n",
       " 0.003197229098382455,\n",
       " 0.2660968395489876,\n",
       " 1.418214314244076,\n",
       " 1.0607429684795753,\n",
       " 1.4595142843900186,\n",
       " 1.557716334515362,\n",
       " 1.5646798833153461,\n",
       " 0.27954819744456993,\n",
       " 0.04236144993724264,\n",
       " 0.027671574492875134,\n",
       " 0.15328095881237172,\n",
       " 0.40042128928315707,\n",
       " 0.6685686050856803,\n",
       " 0.8314195661463061,\n",
       " 0.5414034417778939,\n",
       " 0.2773052232104771,\n",
       " 0.1252485715940259,\n",
       " 0.015575608847873174,\n",
       " 0.07553140631790382,\n",
       " 0.06728532087925826,\n",
       " 0.16577677184095677,\n",
       " 0.2613314798670578,\n",
       " 0.4693095196467112,\n",
       " 0.12006967488587474,\n",
       " 0.06258280319066879,\n",
       " 0.012627731688786304,\n",
       " 0.00816518151495315,\n",
       " 0.020126909849677063,\n",
       " 0.075290494060575,\n",
       " 0.14683098391844765,\n",
       " 0.09080862941619604,\n",
       " 0.07805287061746474,\n",
       " 0.07060737265154997,\n",
       " 0.047589029804175544,\n",
       " 1.9596874035218974e-05,\n",
       " 0.0007242288992297493,\n",
       " 0.007175552864558635,\n",
       " 0.018275365098603315,\n",
       " 0.09559607763423797,\n",
       " 0.03462886010776601,\n",
       " 0.022348783108410764,\n",
       " 0.00826317399557205,\n",
       " 0.024658659003010123,\n",
       " 0.0006354233234764932,\n",
       " 0.004139235350025392,\n",
       " 0.023007917059805393,\n",
       " 0.006339597895597042,\n",
       " 0.010177540307388619,\n",
       " 0.020703718234308152,\n",
       " 0.02906539339273786,\n",
       " 0.0009770844542833846,\n",
       " 0.00013864117943754715,\n",
       " 0.00025024373156808024,\n",
       " 0.00027503347251350407,\n",
       " 0.016263379310422026,\n",
       " 0.00880324329557524,\n",
       " 0.003948372055538223,\n",
       " 0.0005488181544821329,\n",
       " 0.01470317424158776,\n",
       " 0.0036161046380015884,\n",
       " 2.0482848933169013e-05,\n",
       " 0.005052844809597282,\n",
       " 0.000152515323945464,\n",
       " 0.0001380943644388309,\n",
       " 0.004549307042301812,\n",
       " 0.013459135059595905,\n",
       " 4.6181955729488386e-05]"
      ]
     },
     "execution_count": 9,
     "metadata": {},
     "output_type": "execute_result"
    }
   ],
   "source": [
    "e_list"
   ]
  },
  {
   "cell_type": "code",
   "execution_count": 10,
   "metadata": {},
   "outputs": [
    {
     "data": {
      "text/plain": [
       "Text(0.5, 0, 'steps')"
      ]
     },
     "execution_count": 10,
     "metadata": {},
     "output_type": "execute_result"
    },
    {
     "data": {
      "image/png": "[encoded data removed]",
      "text/plain": [
       "<Figure size 432x288 with 1 Axes>"
      ]
     },
     "metadata": {
      "needs_background": "light"
     },
     "output_type": "display_data"
    }
   ],
   "source": [
    "import matplotlib.pyplot as plt\n",
    "plt.plot(e_list)\n",
    "plt.plot(\"error\")\n",
    "plt.xlabel(\"steps\")"
   ]
  },
  {
   "cell_type": "code",
   "execution_count": 11,
   "metadata": {},
   "outputs": [
    {
     "data": {
      "text/plain": [
       "[<matplotlib.lines.Line2D at 0xcc70dd8>]"
      ]
     },
     "execution_count": 11,
     "metadata": {},
     "output_type": "execute_result"
    },
    {
     "data": {
      "image/png": "[encoded data removed]",
      "text/plain": [
       "<Figure size 432x288 with 1 Axes>"
      ]
     },
     "metadata": {
      "needs_background": "light"
     },
     "output_type": "display_data"
    }
   ],
   "source": [
    "plt.scatter(data['x'],data['y'])\n",
    "plt.plot(data['x'],m*data['x']+c)"
   ]
  },
  {
   "cell_type": "code",
   "execution_count": null,
   "metadata": {},
   "outputs": [],
   "source": []
  }
 ],
 "metadata": {
  "kernelspec": {
   "display_name": "Python 3",
   "language": "python",
   "name": "python3"
  },
  "language_info": {
   "codemirror_mode": {
    "name": "ipython",
    "version": 3
   },
   "file_extension": ".py",
   "mimetype": "text/x-python",
   "name": "python",
   "nbconvert_exporter": "python",
   "pygments_lexer": "ipython3",
   "version": "3.8.2"
  }
 },
 "nbformat": 4,
 "nbformat_minor": 4
}
