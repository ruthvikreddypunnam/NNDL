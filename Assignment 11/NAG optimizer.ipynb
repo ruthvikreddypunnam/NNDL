{
 "cells": [
  {
   "cell_type": "markdown",
   "metadata": {},
   "source": [
    "## NAG algorithm using SGD"
   ]
  },
  {
   "cell_type": "code",
   "execution_count": 1,
   "metadata": {},
   "outputs": [],
   "source": [
    "import pandas as pd"
   ]
  },
  {
   "cell_type": "code",
   "execution_count": 2,
   "metadata": {},
   "outputs": [],
   "source": [
    "l1=[0.2,0.4,0.6,0.8]\n",
    "l2=[3.4,3.8,4.2,4.8]\n",
    "d={'x':l1,'y':l2}\n",
    "data=pd.DataFrame(d)"
   ]
  },
  {
   "cell_type": "code",
   "execution_count": 3,
   "metadata": {},
   "outputs": [
    {
     "data": {
      "text/html": [
       "<div>\n",
       "<style scoped>\n",
       "    .dataframe tbody tr th:only-of-type {\n",
       "        vertical-align: middle;\n",
       "    }\n",
       "\n",
       "    .dataframe tbody tr th {\n",
       "        vertical-align: top;\n",
       "    }\n",
       "\n",
       "    .dataframe thead th {\n",
       "        text-align: right;\n",
       "    }\n",
       "</style>\n",
       "<table border=\"1\" class=\"dataframe\">\n",
       "  <thead>\n",
       "    <tr style=\"text-align: right;\">\n",
       "      <th></th>\n",
       "      <th>x</th>\n",
       "      <th>y</th>\n",
       "    </tr>\n",
       "  </thead>\n",
       "  <tbody>\n",
       "    <tr>\n",
       "      <th>0</th>\n",
       "      <td>0.2</td>\n",
       "      <td>3.4</td>\n",
       "    </tr>\n",
       "    <tr>\n",
       "      <th>1</th>\n",
       "      <td>0.4</td>\n",
       "      <td>3.8</td>\n",
       "    </tr>\n",
       "    <tr>\n",
       "      <th>2</th>\n",
       "      <td>0.6</td>\n",
       "      <td>4.2</td>\n",
       "    </tr>\n",
       "    <tr>\n",
       "      <th>3</th>\n",
       "      <td>0.8</td>\n",
       "      <td>4.8</td>\n",
       "    </tr>\n",
       "  </tbody>\n",
       "</table>\n",
       "</div>"
      ],
      "text/plain": [
       "     x    y\n",
       "0  0.2  3.4\n",
       "1  0.4  3.8\n",
       "2  0.6  4.2\n",
       "3  0.8  4.8"
      ]
     },
     "execution_count": 3,
     "metadata": {},
     "output_type": "execute_result"
    }
   ],
   "source": [
    "data"
   ]
  },
  {
   "cell_type": "code",
   "execution_count": 4,
   "metadata": {},
   "outputs": [],
   "source": [
    "m=1\n",
    "c=-1\n",
    "l=0.1\n",
    "r=0.9\n",
    "vm=0\n",
    "vc=0\n",
    "e_list=[]"
   ]
  },
  {
   "cell_type": "code",
   "execution_count": 5,
   "metadata": {},
   "outputs": [],
   "source": [
    "def y_value(m,c,x):\n",
    "    return m*x+c"
   ]
  },
  {
   "cell_type": "code",
   "execution_count": 6,
   "metadata": {},
   "outputs": [],
   "source": [
    "def error(y_actual,y_predicted):\n",
    "    return 0.5*(y_actual-y_predicted)**2"
   ]
  },
  {
   "cell_type": "code",
   "execution_count": 7,
   "metadata": {},
   "outputs": [],
   "source": [
    "def gradient(m,c,y_actual,x,vm,vc):\n",
    "    g_m=(y_actual-(m+r*vm)*x-c-r*vc)*(-1)*x\n",
    "    g_c=(y_actual-(m+r*vm)*x-c-r*vc)*(-1)\n",
    "    vm=r*vm-l*g_m\n",
    "    vc=r*vc-l*g_c\n",
    "    m=m+vm\n",
    "    c=c+vc\n",
    "    return m,c,vm,vc"
   ]
  },
  {
   "cell_type": "code",
   "execution_count": 8,
   "metadata": {},
   "outputs": [],
   "source": [
    "for i in range(20):\n",
    "    for sample in range(len(data)):\n",
    "        y_predicted=y_value(m,c,data['x'][sample])\n",
    "        y_actual=data['y'][sample]\n",
    "        e=error(y_actual,y_predicted)\n",
    "        m,c,vm,vc=gradient(m,c,y_actual,data['x'][sample],vm,vc)\n",
    "        e_list.append(e)"
   ]
  },
  {
   "cell_type": "code",
   "execution_count": 9,
   "metadata": {},
   "outputs": [
    {
     "data": {
      "text/plain": [
       "[8.82,\n",
       " 7.7870364799999985,\n",
       " 5.338304787833294,\n",
       " 2.9368140174869453,\n",
       " 0.47485106306727576,\n",
       " 0.001321174733630979,\n",
       " 0.5002687558237724,\n",
       " 1.1477993744794193,\n",
       " 0.9174339154239062,\n",
       " 1.1764960509246791,\n",
       " 1.1354350705126803,\n",
       " 0.5673027764376493,\n",
       " 0.162318851343808,\n",
       " 0.03621108025000237,\n",
       " 0.0017398553877342432,\n",
       " 0.15598580226460748,\n",
       " 0.07621451216521498,\n",
       " 0.1132015619701784,\n",
       " 0.12772422911544434,\n",
       " 0.2229277690636504,\n",
       " 0.022774181414067018,\n",
       " 0.0050037247855560674,\n",
       " 0.00017301237779351525,\n",
       " 0.0029512469698840717,\n",
       " 0.01815435035325832,\n",
       " 0.030159396170944545,\n",
       " 0.03644086955053511,\n",
       " 0.0015776446670529502,\n",
       " 0.0169587010199973,\n",
       " 0.011941935477968322,\n",
       " 0.006128931454687931,\n",
       " 0.010104210629668493,\n",
       " 0.00019619655007172264,\n",
       " 9.329789982864253e-06,\n",
       " 2.499658084620816e-05,\n",
       " 0.022699043846016377,\n",
       " 0.00014050257500165654,\n",
       " 5.100834145495569e-05,\n",
       " 0.0007616854003165769,\n",
       " 0.009189751583924786,\n",
       " 0.00031142537551016023,\n",
       " 0.0019325008461192898,\n",
       " 0.004518786224291464,\n",
       " 0.003445730381967624,\n",
       " 0.0004439576131562645,\n",
       " 0.0019153403544595784,\n",
       " 0.004050678904565926,\n",
       " 0.00418039260778326,\n",
       " 2.7589750302417828e-08,\n",
       " 0.0006538359524666466,\n",
       " 0.0025454129022288107,\n",
       " 0.005092197806193636,\n",
       " 0.00020469672425608575,\n",
       " 0.00036547877169811516,\n",
       " 0.002700553227853215,\n",
       " 0.003934464639791346,\n",
       " 0.00027945061653398347,\n",
       " 0.0004777836489693253,\n",
       " 0.0034959224354250552,\n",
       " 0.002757679874027108,\n",
       " 0.0003503596431946298,\n",
       " 0.0004867848439541598,\n",
       " 0.0037493893326559567,\n",
       " 0.0024012344728108477,\n",
       " 0.0005699831741958374,\n",
       " 0.00035565157055689623,\n",
       " 0.0036114060119354034,\n",
       " 0.0023192792145660915,\n",
       " 0.0008131254261535852,\n",
       " 0.00027368325862357523,\n",
       " 0.0036131794687860905,\n",
       " 0.0021240978758871433,\n",
       " 0.0009512026954064388,\n",
       " 0.00025809917756629573,\n",
       " 0.0037584327380215565,\n",
       " 0.0019006988456329013,\n",
       " 0.0010318198109496965,\n",
       " 0.00025193675360341765,\n",
       " 0.0038500028362544003,\n",
       " 0.0017783103804143447]"
      ]
     },
     "execution_count": 9,
     "metadata": {},
     "output_type": "execute_result"
    }
   ],
   "source": [
    "e_list"
   ]
  },
  {
   "cell_type": "code",
   "execution_count": 10,
   "metadata": {},
   "outputs": [
    {
     "data": {
      "text/plain": [
       "Text(0.5, 0, 'steps')"
      ]
     },
     "execution_count": 10,
     "metadata": {},
     "output_type": "execute_result"
    },
    {
     "data": {
      "image/png": "[encoded data removed]",
      "text/plain": [
       "<Figure size 432x288 with 1 Axes>"
      ]
     },
     "metadata": {
      "needs_background": "light"
     },
     "output_type": "display_data"
    }
   ],
   "source": [
    "import matplotlib.pyplot as plt\n",
    "plt.plot(e_list)\n",
    "plt.plot(\"error\")\n",
    "plt.xlabel(\"steps\")"
   ]
  },
  {
   "cell_type": "code",
   "execution_count": 11,
   "metadata": {},
   "outputs": [
    {
     "data": {
      "text/plain": [
       "[<matplotlib.lines.Line2D at 0xcfc0dd8>]"
      ]
     },
     "execution_count": 11,
     "metadata": {},
     "output_type": "execute_result"
    },
    {
     "data": {
      "image/png": "[encoded data removed]",
      "text/plain": [
       "<Figure size 432x288 with 1 Axes>"
      ]
     },
     "metadata": {
      "needs_background": "light"
     },
     "output_type": "display_data"
    }
   ],
   "source": [
    "plt.scatter(data['x'],data['y'])\n",
    "plt.plot(data['x'],m*data['x']+c)"
   ]
  },
  {
   "cell_type": "code",
   "execution_count": null,
   "metadata": {},
   "outputs": [],
   "source": []
  }
 ],
 "metadata": {
  "kernelspec": {
   "display_name": "Python 3",
   "language": "python",
   "name": "python3"
  },
  "language_info": {
   "codemirror_mode": {
    "name": "ipython",
    "version": 3
   },
   "file_extension": ".py",
   "mimetype": "text/x-python",
   "name": "python",
   "nbconvert_exporter": "python",
   "pygments_lexer": "ipython3",
   "version": "3.8.2"
  }
 },
 "nbformat": 4,
 "nbformat_minor": 4
}
