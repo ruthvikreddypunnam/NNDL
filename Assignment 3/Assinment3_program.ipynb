{
 "cells": [
  {
   "cell_type": "markdown",
   "metadata": {},
   "source": [
    "<img src=\"https://files.slack.com/files-pri/T017HBVB33K-F01R7BP445A/image.png\">"
   ]
  },
  {
   "cell_type": "code",
   "execution_count": 2,
   "metadata": {},
   "outputs": [],
   "source": [
    "import pandas as pd"
   ]
  },
  {
   "cell_type": "code",
   "execution_count": 15,
   "metadata": {},
   "outputs": [],
   "source": [
    "l1=[0.2,0.4,0.6,0.8]\n",
    "l2=[3.4,3.8,4.2,4.8]\n",
    "d={'x':l1,'y':l2}\n",
    "data=pd.DataFrame(d)"
   ]
  },
  {
   "cell_type": "code",
   "execution_count": 16,
   "metadata": {},
   "outputs": [
    {
     "data": {
      "text/html": [
       "<div>\n",
       "<style scoped>\n",
       "    .dataframe tbody tr th:only-of-type {\n",
       "        vertical-align: middle;\n",
       "    }\n",
       "\n",
       "    .dataframe tbody tr th {\n",
       "        vertical-align: top;\n",
       "    }\n",
       "\n",
       "    .dataframe thead th {\n",
       "        text-align: right;\n",
       "    }\n",
       "</style>\n",
       "<table border=\"1\" class=\"dataframe\">\n",
       "  <thead>\n",
       "    <tr style=\"text-align: right;\">\n",
       "      <th></th>\n",
       "      <th>x</th>\n",
       "      <th>y</th>\n",
       "    </tr>\n",
       "  </thead>\n",
       "  <tbody>\n",
       "    <tr>\n",
       "      <th>0</th>\n",
       "      <td>0.2</td>\n",
       "      <td>3.4</td>\n",
       "    </tr>\n",
       "    <tr>\n",
       "      <th>1</th>\n",
       "      <td>0.4</td>\n",
       "      <td>3.8</td>\n",
       "    </tr>\n",
       "    <tr>\n",
       "      <th>2</th>\n",
       "      <td>0.6</td>\n",
       "      <td>4.2</td>\n",
       "    </tr>\n",
       "    <tr>\n",
       "      <th>3</th>\n",
       "      <td>0.8</td>\n",
       "      <td>4.8</td>\n",
       "    </tr>\n",
       "  </tbody>\n",
       "</table>\n",
       "</div>"
      ],
      "text/plain": [
       "     x    y\n",
       "0  0.2  3.4\n",
       "1  0.4  3.8\n",
       "2  0.6  4.2\n",
       "3  0.8  4.8"
      ]
     },
     "execution_count": 16,
     "metadata": {},
     "output_type": "execute_result"
    }
   ],
   "source": [
    "data"
   ]
  },
  {
   "cell_type": "code",
   "execution_count": 38,
   "metadata": {},
   "outputs": [],
   "source": [
    "m=1\n",
    "c=-1\n",
    "l=0.1\n",
    "e_list=[]"
   ]
  },
  {
   "cell_type": "code",
   "execution_count": 39,
   "metadata": {},
   "outputs": [],
   "source": [
    "def y_value(m,c,x):\n",
    "    return m*x+c"
   ]
  },
  {
   "cell_type": "code",
   "execution_count": 40,
   "metadata": {},
   "outputs": [],
   "source": [
    "def error(y_actual,y_predicted):\n",
    "    return 0.5*(y_actual-y_predicted)**2"
   ]
  },
  {
   "cell_type": "code",
   "execution_count": 41,
   "metadata": {},
   "outputs": [],
   "source": [
    "def gradient(m,c,y_actual,y_predicted,x):\n",
    "    g_m=(y_actual-y_predicted)*(-1)*x\n",
    "    g_c=(y_actual-y_predicted)*(-1)\n",
    "    m=m-l*g_m\n",
    "    c=c-l*g_c\n",
    "    return m,c"
   ]
  },
  {
   "cell_type": "code",
   "execution_count": 43,
   "metadata": {},
   "outputs": [],
   "source": [
    "for i in range(10):\n",
    "    for sample in range(len(data)):\n",
    "        y_predicted=y_value(m,c,data['x'][sample])\n",
    "        y_actual=data['y'][sample]\n",
    "        e=error(y_actual,y_predicted)\n",
    "        m,c=gradient(m,c,y_actual,y_predicted,data['x'][sample])\n",
    "        e_list.append(e)"
   ]
  },
  {
   "cell_type": "code",
   "execution_count": 44,
   "metadata": {},
   "outputs": [
    {
     "data": {
      "text/plain": [
       "[8.82,\n",
       " 7.08083712,\n",
       " 5.684609333329919,\n",
       " 4.563695326546593,\n",
       " 4.059916560015501,\n",
       " 3.1726461553234735,\n",
       " 2.47928337395446,\n",
       " 1.937450868276956,\n",
       " 1.6311768783459824,\n",
       " 1.2176670149777629,\n",
       " 0.9089835560128398,\n",
       " 0.678552588629361,\n",
       " 0.7224264216789325,\n",
       " 0.5049009364057188,\n",
       " 0.35287324485021104,\n",
       " 0.2466216993328335,\n",
       " 0.16854015452028373,\n",
       " 0.10278517709508338,\n",
       " 0.0545723966428887,\n",
       " 0.08447780180932217,\n",
       " 0.07471267700158732,\n",
       " 0.034803894415962135,\n",
       " 0.011040463575350132,\n",
       " 0.029275344741800283,\n",
       " 0.037305020815386565,\n",
       " 0.011759936460057713,\n",
       " 0.0009230373961878727,\n",
       " 0.01036815262306551,\n",
       " 0.021354499777941086,\n",
       " 0.003953076647427249,\n",
       " 0.00016856873538145337,\n",
       " 0.0038187361816269002,\n",
       " 0.01402556049889896,\n",
       " 0.0013135303365268383,\n",
       " 0.0014532607058318544,\n",
       " 0.001504007650913983,\n",
       " 0.010397808518423349,\n",
       " 0.00042575004714152123,\n",
       " 0.002772650056404172,\n",
       " 0.0006585545958530008,\n",
       " 0.008474491184936045,\n",
       " 0.00013087263544116985,\n",
       " 0.0037236491859631345,\n",
       " 0.00033475185467666364,\n",
       " 0.007389057255792138,\n",
       " 3.577084866671069e-05,\n",
       " 0.004329601288175466,\n",
       " 0.00020372448921091336,\n",
       " 0.006738401186189417,\n",
       " 7.272264046941461e-06,\n",
       " 0.00469109967081401,\n",
       " 0.00014862079394861708,\n",
       " 0.006322841097636788,\n",
       " 4.622368800170549e-07,\n",
       " 0.004895961124046922,\n",
       " 0.0001261978546081789]"
      ]
     },
     "execution_count": 44,
     "metadata": {},
     "output_type": "execute_result"
    }
   ],
   "source": [
    "e_list"
   ]
  },
  {
   "cell_type": "code",
   "execution_count": null,
   "metadata": {},
   "outputs": [],
   "source": []
  }
 ],
 "metadata": {
  "kernelspec": {
   "display_name": "Python 3",
   "language": "python",
   "name": "python3"
  },
  "language_info": {
   "codemirror_mode": {
    "name": "ipython",
    "version": 3
   },
   "file_extension": ".py",
   "mimetype": "text/x-python",
   "name": "python",
   "nbconvert_exporter": "python",
   "pygments_lexer": "ipython3",
   "version": "3.8.2"
  }
 },
 "nbformat": 4,
 "nbformat_minor": 4
}
