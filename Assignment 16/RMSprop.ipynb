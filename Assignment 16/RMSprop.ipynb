{
 "cells": [
  {
   "cell_type": "code",
   "execution_count": 1,
   "metadata": {},
   "outputs": [],
   "source": [
    "import pandas as pd\n",
    "import seaborn as sns\n",
    "import matplotlib.pyplot as plt\n",
    "from sklearn.model_selection import train_test_split\n",
    "import math\n",
    "import openpyxl"
   ]
  },
  {
   "cell_type": "code",
   "execution_count": 2,
   "metadata": {},
   "outputs": [],
   "source": [
    "data=pd.read_excel(r'Load Data in kW.xlsx',engine='openpyxl',names=['data in KW'])"
   ]
  },
  {
   "cell_type": "code",
   "execution_count": 3,
   "metadata": {},
   "outputs": [
    {
     "data": {
      "text/html": [
       "<div>\n",
       "<style scoped>\n",
       "    .dataframe tbody tr th:only-of-type {\n",
       "        vertical-align: middle;\n",
       "    }\n",
       "\n",
       "    .dataframe tbody tr th {\n",
       "        vertical-align: top;\n",
       "    }\n",
       "\n",
       "    .dataframe thead th {\n",
       "        text-align: right;\n",
       "    }\n",
       "</style>\n",
       "<table border=\"1\" class=\"dataframe\">\n",
       "  <thead>\n",
       "    <tr style=\"text-align: right;\">\n",
       "      <th></th>\n",
       "      <th>data in KW</th>\n",
       "    </tr>\n",
       "  </thead>\n",
       "  <tbody>\n",
       "    <tr>\n",
       "      <th>0</th>\n",
       "      <td>4983.17184</td>\n",
       "    </tr>\n",
       "    <tr>\n",
       "      <th>1</th>\n",
       "      <td>4888.39680</td>\n",
       "    </tr>\n",
       "    <tr>\n",
       "      <th>2</th>\n",
       "      <td>5072.95872</td>\n",
       "    </tr>\n",
       "    <tr>\n",
       "      <th>3</th>\n",
       "      <td>5196.25980</td>\n",
       "    </tr>\n",
       "    <tr>\n",
       "      <th>4</th>\n",
       "      <td>5641.29720</td>\n",
       "    </tr>\n",
       "    <tr>\n",
       "      <th>...</th>\n",
       "      <td>...</td>\n",
       "    </tr>\n",
       "    <tr>\n",
       "      <th>2178</th>\n",
       "      <td>4626.51840</td>\n",
       "    </tr>\n",
       "    <tr>\n",
       "      <th>2179</th>\n",
       "      <td>4567.90752</td>\n",
       "    </tr>\n",
       "    <tr>\n",
       "      <th>2180</th>\n",
       "      <td>4723.63164</td>\n",
       "    </tr>\n",
       "    <tr>\n",
       "      <th>2181</th>\n",
       "      <td>5150.27520</td>\n",
       "    </tr>\n",
       "    <tr>\n",
       "      <th>2182</th>\n",
       "      <td>6938.37468</td>\n",
       "    </tr>\n",
       "  </tbody>\n",
       "</table>\n",
       "<p>2183 rows × 1 columns</p>\n",
       "</div>"
      ],
      "text/plain": [
       "      data in KW\n",
       "0     4983.17184\n",
       "1     4888.39680\n",
       "2     5072.95872\n",
       "3     5196.25980\n",
       "4     5641.29720\n",
       "...          ...\n",
       "2178  4626.51840\n",
       "2179  4567.90752\n",
       "2180  4723.63164\n",
       "2181  5150.27520\n",
       "2182  6938.37468\n",
       "\n",
       "[2183 rows x 1 columns]"
      ]
     },
     "execution_count": 3,
     "metadata": {},
     "output_type": "execute_result"
    }
   ],
   "source": [
    "data"
   ]
  },
  {
   "cell_type": "code",
   "execution_count": 4,
   "metadata": {},
   "outputs": [
    {
     "data": {
      "text/html": [
       "<div>\n",
       "<style scoped>\n",
       "    .dataframe tbody tr th:only-of-type {\n",
       "        vertical-align: middle;\n",
       "    }\n",
       "\n",
       "    .dataframe tbody tr th {\n",
       "        vertical-align: top;\n",
       "    }\n",
       "\n",
       "    .dataframe thead th {\n",
       "        text-align: right;\n",
       "    }\n",
       "</style>\n",
       "<table border=\"1\" class=\"dataframe\">\n",
       "  <thead>\n",
       "    <tr style=\"text-align: right;\">\n",
       "      <th></th>\n",
       "      <th>x</th>\n",
       "      <th>y</th>\n",
       "    </tr>\n",
       "  </thead>\n",
       "  <tbody>\n",
       "    <tr>\n",
       "      <th>0</th>\n",
       "      <td>4983.17184</td>\n",
       "      <td>4775.53968</td>\n",
       "    </tr>\n",
       "    <tr>\n",
       "      <th>1</th>\n",
       "      <td>4888.39680</td>\n",
       "      <td>4713.81120</td>\n",
       "    </tr>\n",
       "    <tr>\n",
       "      <th>2</th>\n",
       "      <td>5072.95872</td>\n",
       "      <td>4689.02628</td>\n",
       "    </tr>\n",
       "    <tr>\n",
       "      <th>3</th>\n",
       "      <td>5196.25980</td>\n",
       "      <td>4844.75040</td>\n",
       "    </tr>\n",
       "    <tr>\n",
       "      <th>4</th>\n",
       "      <td>5641.29720</td>\n",
       "      <td>5571.46296</td>\n",
       "    </tr>\n",
       "    <tr>\n",
       "      <th>...</th>\n",
       "      <td>...</td>\n",
       "      <td>...</td>\n",
       "    </tr>\n",
       "    <tr>\n",
       "      <th>2154</th>\n",
       "      <td>4643.97696</td>\n",
       "      <td>4626.51840</td>\n",
       "    </tr>\n",
       "    <tr>\n",
       "      <th>2155</th>\n",
       "      <td>5813.70048</td>\n",
       "      <td>4567.90752</td>\n",
       "    </tr>\n",
       "    <tr>\n",
       "      <th>2156</th>\n",
       "      <td>7115.92200</td>\n",
       "      <td>4723.63164</td>\n",
       "    </tr>\n",
       "    <tr>\n",
       "      <th>2157</th>\n",
       "      <td>6189.99480</td>\n",
       "      <td>5150.27520</td>\n",
       "    </tr>\n",
       "    <tr>\n",
       "      <th>2158</th>\n",
       "      <td>5657.97636</td>\n",
       "      <td>6938.37468</td>\n",
       "    </tr>\n",
       "  </tbody>\n",
       "</table>\n",
       "<p>2159 rows × 2 columns</p>\n",
       "</div>"
      ],
      "text/plain": [
       "               x           y\n",
       "0     4983.17184  4775.53968\n",
       "1     4888.39680  4713.81120\n",
       "2     5072.95872  4689.02628\n",
       "3     5196.25980  4844.75040\n",
       "4     5641.29720  5571.46296\n",
       "...          ...         ...\n",
       "2154  4643.97696  4626.51840\n",
       "2155  5813.70048  4567.90752\n",
       "2156  7115.92200  4723.63164\n",
       "2157  6189.99480  5150.27520\n",
       "2158  5657.97636  6938.37468\n",
       "\n",
       "[2159 rows x 2 columns]"
      ]
     },
     "execution_count": 4,
     "metadata": {},
     "output_type": "execute_result"
    }
   ],
   "source": [
    "x=[]\n",
    "y=[]\n",
    "for i in range(24,len(data)):\n",
    "    x.append(data['data in KW'][i-24])\n",
    "    y.append(data['data in KW'][i])\n",
    "d={'x':x,'y':y}\n",
    "data=pd.DataFrame(d)\n",
    "data"
   ]
  },
  {
   "cell_type": "markdown",
   "metadata": {},
   "source": [
    "### EDA"
   ]
  },
  {
   "cell_type": "code",
   "execution_count": 5,
   "metadata": {},
   "outputs": [
    {
     "data": {
      "text/plain": [
       "x    0\n",
       "y    0\n",
       "dtype: int64"
      ]
     },
     "execution_count": 5,
     "metadata": {},
     "output_type": "execute_result"
    }
   ],
   "source": [
    "data.isnull().sum()"
   ]
  },
  {
   "cell_type": "code",
   "execution_count": 6,
   "metadata": {},
   "outputs": [
    {
     "data": {
      "text/plain": [
       "<AxesSubplot:xlabel='x'>"
      ]
     },
     "execution_count": 6,
     "metadata": {},
     "output_type": "execute_result"
    },
    {
     "data": {
      "image/png": "[encoded data removed]",
      "text/plain": [
       "<Figure size 432x288 with 1 Axes>"
      ]
     },
     "metadata": {
      "needs_background": "light"
     },
     "output_type": "display_data"
    }
   ],
   "source": [
    "sns.boxplot(data['x'])"
   ]
  },
  {
   "cell_type": "code",
   "execution_count": 7,
   "metadata": {},
   "outputs": [
    {
     "data": {
      "text/plain": [
       "<AxesSubplot:xlabel='y'>"
      ]
     },
     "execution_count": 7,
     "metadata": {},
     "output_type": "execute_result"
    },
    {
     "data": {
      "image/png": "[encoded data removed]",
      "text/plain": [
       "<Figure size 432x288 with 1 Axes>"
      ]
     },
     "metadata": {
      "needs_background": "light"
     },
     "output_type": "display_data"
    }
   ],
   "source": [
    "sns.boxplot(data['y'])"
   ]
  },
  {
   "cell_type": "code",
   "execution_count": 8,
   "metadata": {},
   "outputs": [
    {
     "name": "stderr",
     "output_type": "stream",
     "text": [
      "<ipython-input-8-d8417b772871>:6: SettingWithCopyWarning: \n",
      "A value is trying to be set on a copy of a slice from a DataFrame.\n",
      "Try using .loc[row_indexer,col_indexer] = value instead\n",
      "\n",
      "See the caveats in the documentation: https://pandas.pydata.org/pandas-docs/stable/user_guide/indexing.html#returning-a-view-versus-a-copy\n",
      "  data['z_score_y']=stats.zscore(data['y'])\n"
     ]
    },
    {
     "data": {
      "text/plain": [
       "<matplotlib.collections.PathCollection at 0x146c83e8>"
      ]
     },
     "execution_count": 8,
     "metadata": {},
     "output_type": "execute_result"
    },
    {
     "data": {
      "image/png": "[encoded data removed]",
      "text/plain": [
       "<Figure size 432x288 with 1 Axes>"
      ]
     },
     "metadata": {
      "needs_background": "light"
     },
     "output_type": "display_data"
    }
   ],
   "source": [
    "from scipy import stats\n",
    "data['z_score_x']=stats.zscore(data['x'])\n",
    "data=data[data['z_score_x'].abs()<=3]\n",
    "\n",
    "\n",
    "data['z_score_y']=stats.zscore(data['y'])\n",
    "data=data[data['z_score_y'].abs()<=3]\n",
    "\n",
    "plt.scatter(data['x'],data['y'])"
   ]
  },
  {
   "cell_type": "code",
   "execution_count": 9,
   "metadata": {},
   "outputs": [],
   "source": [
    "def normalize(d):\n",
    "    min_d=min(d)\n",
    "    max_d=max(d)\n",
    "    result=[]\n",
    "    diff=max_d-min_d\n",
    "    for i in d:\n",
    "        result.append((i-min_d)/diff)\n",
    "    return result"
   ]
  },
  {
   "cell_type": "code",
   "execution_count": 10,
   "metadata": {},
   "outputs": [],
   "source": [
    "x=normalize(data['x'])\n",
    "y=normalize(data['y'])\n",
    "l=0.1\n",
    "r=0.9\n",
    "E=10**(-8)"
   ]
  },
  {
   "cell_type": "markdown",
   "metadata": {},
   "source": [
    "### Momentum algorithm"
   ]
  },
  {
   "cell_type": "code",
   "execution_count": 11,
   "metadata": {},
   "outputs": [],
   "source": [
    "def y_value(m,c,x):\n",
    "    return m*x+c"
   ]
  },
  {
   "cell_type": "code",
   "execution_count": 12,
   "metadata": {},
   "outputs": [],
   "source": [
    "def error(y_actual,y_predicted):\n",
    "    return 0.5*(y_actual-y_predicted)**2"
   ]
  },
  {
   "cell_type": "code",
   "execution_count": 13,
   "metadata": {},
   "outputs": [],
   "source": [
    "def gradient(m,c,y_actual,x,E2gmt,E2gct):\n",
    "    g_m=(y_actual-m*x-c)*(-1)*x\n",
    "    g_c=(y_actual-m*x-c)*(-1)\n",
    "    E2gmt=r*E2gmt+(1-r)*(g_m**2)\n",
    "    E2gct=r*E2gct+(1-r)*(g_c**2)\n",
    "    \n",
    "    m=m-((l*g_m)/math.sqrt(E2gmt+E))\n",
    "    c=c-((l*g_c)/math.sqrt(E2gct+E))\n",
    "    return m,c,E2gmt,E2gct"
   ]
  },
  {
   "cell_type": "code",
   "execution_count": 14,
   "metadata": {},
   "outputs": [],
   "source": [
    "def slr(x,y):\n",
    "    m=0\n",
    "    c=-1\n",
    "    E2gmt=0\n",
    "    E2gct=0\n",
    "    e_list=[]\n",
    "    for i in range(100):\n",
    "        for sample in range(len(x)):\n",
    "            y_predicted=y_value(m,c,x[sample])\n",
    "            y_actual=y[sample]\n",
    "            e=error(y_actual,y_predicted)\n",
    "            m,c,E2gmt,E2gct=gradient(m,c,y_actual,x[sample],E2gmt,E2gct)\n",
    "            e_list.append(e)\n",
    "    return m,c,e_list"
   ]
  },
  {
   "cell_type": "markdown",
   "metadata": {},
   "source": [
    "### spliting the data"
   ]
  },
  {
   "cell_type": "code",
   "execution_count": 15,
   "metadata": {},
   "outputs": [],
   "source": [
    "x_train, x_test, y_train, y_test = train_test_split(x,y,test_size=0.10)"
   ]
  },
  {
   "cell_type": "markdown",
   "metadata": {},
   "source": [
    "### train data model"
   ]
  },
  {
   "cell_type": "code",
   "execution_count": 16,
   "metadata": {},
   "outputs": [],
   "source": [
    "m_train,c_train,train_e_list=slr(x_train,y_train)"
   ]
  },
  {
   "cell_type": "markdown",
   "metadata": {},
   "source": [
    "### test model"
   ]
  },
  {
   "cell_type": "code",
   "execution_count": 17,
   "metadata": {},
   "outputs": [],
   "source": [
    "m_test,c_test,test_e_list=slr(x_test,y_test)"
   ]
  },
  {
   "cell_type": "markdown",
   "metadata": {},
   "source": [
    "### error metrics"
   ]
  },
  {
   "cell_type": "code",
   "execution_count": 18,
   "metadata": {},
   "outputs": [],
   "source": [
    "def final_error(m,c):\n",
    "    mse=0\n",
    "    mae=0\n",
    "    for i,j in zip(x,y):\n",
    "        y_predicted=m*i+c\n",
    "        y_actual=j\n",
    "        d=y_actual-y_predicted\n",
    "        mse+=d*d\n",
    "        mae+=d\n",
    "    return 0.5*mae,0.5*mse,math.sqrt(0.5*mse)"
   ]
  },
  {
   "cell_type": "markdown",
   "metadata": {},
   "source": [
    "#### training error"
   ]
  },
  {
   "cell_type": "code",
   "execution_count": 19,
   "metadata": {},
   "outputs": [
    {
     "name": "stdout",
     "output_type": "stream",
     "text": [
      "MAE of trained data is -19.52662505509932\n",
      "MSE of trained data is 18.940805944306213\n",
      "RMSE of trained data is 4.352103622882412\n"
     ]
    }
   ],
   "source": [
    "mae,mse,rmse=final_error(m_train,c_train)\n",
    "\n",
    "print(\"MAE of trained data is \"+str(mae))\n",
    "print(\"MSE of trained data is \"+str(mse))\n",
    "print(\"RMSE of trained data is \"+str(rmse))"
   ]
  },
  {
   "cell_type": "markdown",
   "metadata": {},
   "source": [
    "#### testing error"
   ]
  },
  {
   "cell_type": "code",
   "execution_count": 20,
   "metadata": {},
   "outputs": [
    {
     "name": "stdout",
     "output_type": "stream",
     "text": [
      "MAE of trained data is 72.84717681987146\n",
      "MSE of trained data is 23.696687636578524\n",
      "RMSE of trained data is 4.8679243663576495\n"
     ]
    }
   ],
   "source": [
    "mae,mse,rmse=final_error(m_test,c_test)\n",
    "\n",
    "print(\"MAE of trained data is \"+str(mae))\n",
    "print(\"MSE of trained data is \"+str(mse))\n",
    "print(\"RMSE of trained data is \"+str(rmse))"
   ]
  },
  {
   "cell_type": "code",
   "execution_count": 21,
   "metadata": {},
   "outputs": [],
   "source": [
    "def predict(x):\n",
    "    min_d=min(data['x'])\n",
    "    max_d=max(data['y'])\n",
    "    diff=max_d-min_d\n",
    "    x=(x-min_d)/diff\n",
    "    y=m_train*x+c_train\n",
    "    y=(y*(max(data['x'])-min(data['y'])))+min(data['y'])\n",
    "    return y"
   ]
  },
  {
   "cell_type": "code",
   "execution_count": 22,
   "metadata": {},
   "outputs": [
    {
     "data": {
      "text/plain": [
       "4689.859727644919"
      ]
     },
     "execution_count": 22,
     "metadata": {},
     "output_type": "execute_result"
    }
   ],
   "source": [
    "predict(4000)"
   ]
  },
  {
   "cell_type": "code",
   "execution_count": 23,
   "metadata": {},
   "outputs": [
    {
     "data": {
      "text/plain": [
       "[<matplotlib.lines.Line2D at 0x14b6d550>]"
      ]
     },
     "execution_count": 23,
     "metadata": {},
     "output_type": "execute_result"
    },
    {
     "data": {
      "image/png": "[encoded data removed]",
      "text/plain": [
       "<Figure size 432x288 with 1 Axes>"
      ]
     },
     "metadata": {
      "needs_background": "light"
     },
     "output_type": "display_data"
    }
   ],
   "source": [
    "plt.scatter(data['x'],data['y'])\n",
    "plt.plot(data['x'],m_train*data['x']+c_train,color='red')"
   ]
  },
  {
   "cell_type": "code",
   "execution_count": null,
   "metadata": {},
   "outputs": [],
   "source": []
  },
  {
   "cell_type": "code",
   "execution_count": null,
   "metadata": {},
   "outputs": [],
   "source": []
  },
  {
   "cell_type": "code",
   "execution_count": null,
   "metadata": {},
   "outputs": [],
   "source": []
  }
 ],
 "metadata": {
  "kernelspec": {
   "display_name": "Python 3",
   "language": "python",
   "name": "python3"
  },
  "language_info": {
   "codemirror_mode": {
    "name": "ipython",
    "version": 3
   },
   "file_extension": ".py",
   "mimetype": "text/x-python",
   "name": "python",
   "nbconvert_exporter": "python",
   "pygments_lexer": "ipython3",
   "version": "3.8.2"
  }
 },
 "nbformat": 4,
 "nbformat_minor": 4
}
